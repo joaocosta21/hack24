{
 "cells": [
  {
   "cell_type": "code",
   "execution_count": 2,
   "metadata": {},
   "outputs": [
    {
     "data": {
      "text/html": [
       "\n",
       "            <style>\n",
       "                .geemap-dark {\n",
       "                    --jp-widgets-color: white;\n",
       "                    --jp-widgets-label-color: white;\n",
       "                    --jp-ui-font-color1: white;\n",
       "                    --jp-layout-color2: #454545;\n",
       "                    background-color: #383838;\n",
       "                }\n",
       "\n",
       "                .geemap-dark .jupyter-button {\n",
       "                    --jp-layout-color3: #383838;\n",
       "                }\n",
       "\n",
       "                .geemap-colab {\n",
       "                    background-color: var(--colab-primary-surface-color, white);\n",
       "                }\n",
       "\n",
       "                .geemap-colab .jupyter-button {\n",
       "                    --jp-layout-color3: var(--colab-primary-surface-color, white);\n",
       "                }\n",
       "            </style>\n",
       "            "
      ],
      "text/plain": [
       "<IPython.core.display.HTML object>"
      ]
     },
     "metadata": {},
     "output_type": "display_data"
    }
   ],
   "source": [
    "import geemap\n",
    "import ee\n",
    "import os\n",
    "import geopandas\n"
   ]
  },
  {
   "cell_type": "code",
   "execution_count": 3,
   "metadata": {},
   "outputs": [
    {
     "data": {
      "text/html": [
       "\n",
       "            <style>\n",
       "                .geemap-dark {\n",
       "                    --jp-widgets-color: white;\n",
       "                    --jp-widgets-label-color: white;\n",
       "                    --jp-ui-font-color1: white;\n",
       "                    --jp-layout-color2: #454545;\n",
       "                    background-color: #383838;\n",
       "                }\n",
       "\n",
       "                .geemap-dark .jupyter-button {\n",
       "                    --jp-layout-color3: #383838;\n",
       "                }\n",
       "\n",
       "                .geemap-colab {\n",
       "                    background-color: var(--colab-primary-surface-color, white);\n",
       "                }\n",
       "\n",
       "                .geemap-colab .jupyter-button {\n",
       "                    --jp-layout-color3: var(--colab-primary-surface-color, white);\n",
       "                }\n",
       "            </style>\n",
       "            "
      ],
      "text/plain": [
       "<IPython.core.display.HTML object>"
      ]
     },
     "metadata": {},
     "output_type": "display_data"
    },
    {
     "name": "stdout",
     "output_type": "stream",
     "text": [
      "Earth Engine Initialized\n"
     ]
    }
   ],
   "source": [
    "ee.Authenticate()\n",
    "ee.Initialize(project='digital-yeti-417904')\n",
    "print('Earth Engine Initialized')"
   ]
  },
  {
   "cell_type": "code",
   "execution_count": 4,
   "metadata": {},
   "outputs": [
    {
     "data": {
      "text/html": [
       "\n",
       "            <style>\n",
       "                .geemap-dark {\n",
       "                    --jp-widgets-color: white;\n",
       "                    --jp-widgets-label-color: white;\n",
       "                    --jp-ui-font-color1: white;\n",
       "                    --jp-layout-color2: #454545;\n",
       "                    background-color: #383838;\n",
       "                }\n",
       "\n",
       "                .geemap-dark .jupyter-button {\n",
       "                    --jp-layout-color3: #383838;\n",
       "                }\n",
       "\n",
       "                .geemap-colab {\n",
       "                    background-color: var(--colab-primary-surface-color, white);\n",
       "                }\n",
       "\n",
       "                .geemap-colab .jupyter-button {\n",
       "                    --jp-layout-color3: var(--colab-primary-surface-color, white);\n",
       "                }\n",
       "            </style>\n",
       "            "
      ],
      "text/plain": [
       "<IPython.core.display.HTML object>"
      ]
     },
     "metadata": {},
     "output_type": "display_data"
    }
   ],
   "source": [
    "brazil_shapefile = ee.FeatureCollection('FAO/GAUL/2015/level0')\\\n",
    "                      .filter(ee.Filter.eq('ADM0_NAME', 'Brazil'))\n",
    "brazil_shapefile_geo = brazil_shapefile.geometry()"
   ]
  },
  {
   "cell_type": "code",
   "execution_count": 28,
   "metadata": {},
   "outputs": [
    {
     "data": {
      "text/html": [
       "\n",
       "            <style>\n",
       "                .geemap-dark {\n",
       "                    --jp-widgets-color: white;\n",
       "                    --jp-widgets-label-color: white;\n",
       "                    --jp-ui-font-color1: white;\n",
       "                    --jp-layout-color2: #454545;\n",
       "                    background-color: #383838;\n",
       "                }\n",
       "\n",
       "                .geemap-dark .jupyter-button {\n",
       "                    --jp-layout-color3: #383838;\n",
       "                }\n",
       "\n",
       "                .geemap-colab {\n",
       "                    background-color: var(--colab-primary-surface-color, white);\n",
       "                }\n",
       "\n",
       "                .geemap-colab .jupyter-button {\n",
       "                    --jp-layout-color3: var(--colab-primary-surface-color, white);\n",
       "                }\n",
       "            </style>\n",
       "            "
      ],
      "text/plain": [
       "<IPython.core.display.HTML object>"
      ]
     },
     "metadata": {},
     "output_type": "display_data"
    },
    {
     "data": {
      "application/vnd.jupyter.widget-view+json": {
       "model_id": "169f6dcd09d24bb4a5cdbffa075ac258",
       "version_major": 2,
       "version_minor": 0
      },
      "text/plain": [
       "Map(center=[0, 0], controls=(WidgetControl(options=['position', 'transparent_bg'], widget=SearchDataGUI(childr…"
      ]
     },
     "execution_count": 28,
     "metadata": {},
     "output_type": "execute_result"
    }
   ],
   "source": [
    "## Burn datasets ##\n",
    "burned_boundaries = ee.FeatureCollection(\"USFS/GTAC/MTBS/burned_area_boundaries/v1\")\n",
    "\n",
    "burned_images = ee.ImageCollection(\"MODIS/061/MCD64A1\")\n",
    "burned_images = burned_images.filter(ee.Filter.date('2017-01-01', '2018-01-01'))\n",
    "\n",
    "burnedArea = burned_images.select('BurnDate')\n",
    "burnedArea = burnedArea.mean()\n",
    "burnedArea = burnedArea.clip(brazil_shapefile)\n",
    "\n",
    "# geemap.ee_export_image(burnedArea, filename='file.tif', scale=90, region=brazil_shapefile_geo)\n",
    "# Get image pixel size without downloading it\n",
    "# print(burnedArea.getInfo().keys())\n",
    "# print(burnedArea.getInfo()['bands'][0]['dimensions'])\n",
    "\n",
    "Map = geemap.Map()\n",
    "\n",
    "# Protected Areas ##\n",
    "protected_areas = ee.FeatureCollection(\"WCMC/WDPA/current/polygons\")\n",
    "brazil_protected_areas = protected_areas.filterBounds(brazil_shapefile)\n",
    "\n",
    "Map.addLayer(brazil_protected_areas, {'color': '00FF00', 'fillColor': '80FF0080'}, 'Protected Area')\n",
    "Map.addLayer(brazil_shapefile, {'color': '808080', 'fillColor': '80808080'}, 'Border')\n",
    "\n",
    "Map.add_layer(burnedArea, {'palette': ['red']}, 'Burned Area')\n",
    "Map.add_layer_control()\n",
    "Map"
   ]
  },
  {
   "cell_type": "code",
   "execution_count": 6,
   "metadata": {},
   "outputs": [
    {
     "data": {
      "text/html": [
       "\n",
       "            <style>\n",
       "                .geemap-dark {\n",
       "                    --jp-widgets-color: white;\n",
       "                    --jp-widgets-label-color: white;\n",
       "                    --jp-ui-font-color1: white;\n",
       "                    --jp-layout-color2: #454545;\n",
       "                    background-color: #383838;\n",
       "                }\n",
       "\n",
       "                .geemap-dark .jupyter-button {\n",
       "                    --jp-layout-color3: #383838;\n",
       "                }\n",
       "\n",
       "                .geemap-colab {\n",
       "                    background-color: var(--colab-primary-surface-color, white);\n",
       "                }\n",
       "\n",
       "                .geemap-colab .jupyter-button {\n",
       "                    --jp-layout-color3: var(--colab-primary-surface-color, white);\n",
       "                }\n",
       "            </style>\n",
       "            "
      ],
      "text/plain": [
       "<IPython.core.display.HTML object>"
      ]
     },
     "metadata": {},
     "output_type": "display_data"
    },
    {
     "name": "stdout",
     "output_type": "stream",
     "text": [
      "[{'id': 'population', 'data_type': {'type': 'PixelType', 'precision': 'float'}, 'crs': 'EPSG:4326', 'crs_transform': [1, 0, 0, 0, 1, 0]}]\n"
     ]
    }
   ],
   "source": [
    "def clip_image(image):\n",
    "    return image.clip(brazil_shapefile)\n",
    "\n",
    "\n",
    "\n",
    "## Population Datasets ##\n",
    "population = ee.ImageCollection('WorldPop/GP/100m/pop')\n",
    "population = population.filter(ee.Filter.date('2017-01-01', '2018-01-01')).mean()\n",
    "\n",
    "population = population.clip(brazil_shapefile)\n",
    "\n",
    "# print(population.getInfo()['bands'][0]['dimensions'])\n",
    "print(population.getInfo()['bands'])\n",
    "# population = population.clip(brazil_shapefile)\n",
    "# Map = geemap.Map()\n",
    "# Map.add_layer(population)\n",
    "# Map.add_layer_control()\n",
    "# Map"
   ]
  },
  {
   "cell_type": "code",
   "execution_count": 7,
   "metadata": {},
   "outputs": [
    {
     "data": {
      "text/html": [
       "\n",
       "            <style>\n",
       "                .geemap-dark {\n",
       "                    --jp-widgets-color: white;\n",
       "                    --jp-widgets-label-color: white;\n",
       "                    --jp-ui-font-color1: white;\n",
       "                    --jp-layout-color2: #454545;\n",
       "                    background-color: #383838;\n",
       "                }\n",
       "\n",
       "                .geemap-dark .jupyter-button {\n",
       "                    --jp-layout-color3: #383838;\n",
       "                }\n",
       "\n",
       "                .geemap-colab {\n",
       "                    background-color: var(--colab-primary-surface-color, white);\n",
       "                }\n",
       "\n",
       "                .geemap-colab .jupyter-button {\n",
       "                    --jp-layout-color3: var(--colab-primary-surface-color, white);\n",
       "                }\n",
       "            </style>\n",
       "            "
      ],
      "text/plain": [
       "<IPython.core.display.HTML object>"
      ]
     },
     "metadata": {},
     "output_type": "display_data"
    },
    {
     "data": {
      "application/vnd.jupyter.widget-view+json": {
       "model_id": "08c45837fb614d3c8b49719bb4022b57",
       "version_major": 2,
       "version_minor": 0
      },
      "text/plain": [
       "Map(center=[0, 0], controls=(WidgetControl(options=['position', 'transparent_bg'], widget=SearchDataGUI(childr…"
      ]
     },
     "execution_count": 7,
     "metadata": {},
     "output_type": "execute_result"
    }
   ],
   "source": [
    "start_of_2020 = '2020-01-01'\n",
    "end_of_2020 = '2020-12-31'\n",
    "\n",
    "fire = (ee.ImageCollection('MODIS/006/MCD64A1')\n",
    "        .filter(ee.Filter.date(start_of_2020, end_of_2020))).max()\n",
    "\n",
    "population = (ee.ImageCollection('WorldPop/GP/100m/pop')\n",
    "              .filter(ee.Filter.date(start_of_2020, end_of_2020)).mean())\n",
    "\n",
    "\n",
    "\n",
    "\n",
    "# Get the projection info from the population dataset\n",
    "pop_proj = population.projection()\n",
    "\n",
    "# Use the same projection for the fire data\n",
    "# fire_proj = fire.select('BurnDate').reproject(pop_proj)\n",
    "\n",
    "# Create a binary mask of the 'BurnDate' band indicating whether a wildfire occurred\n",
    "fire_mask_partial = fire.select('BurnDate').gt(0)\n",
    "\n",
    "# Use 'where' to assign population counts to burn areas\n",
    "fire_mask_full = ee.Image.constant(0).where(fire_mask_partial, 1)\n",
    "pop_affected = population.where(fire_mask_full.Not(), 0)\n",
    "\n",
    "# Compute the total population affected by wildfires\n",
    "\n",
    "# brazil_simplified = brazil_shapefile.simplify(maxError=10000)\n",
    "geometry = brazil_shapefile_geo.simplify(maxError=5000)\n",
    "# Make geometry all world\n",
    "\n",
    "fire = fire.clip(brazil_shapefile)\n",
    "pop_affected = pop_affected.clip(brazil_shapefile)\n",
    "fire_mask_full = fire_mask_full.clip(brazil_shapefile)\n",
    "fire_mask_partial = fire_mask_partial.clip(brazil_shapefile)\n",
    "\n",
    "total_pop_affected = pop_affected.reduceRegion(reducer=ee.Reducer.sum(), geometry=geometry, scale=100, maxPixels=1e10)\n",
    "\n",
    "# Obtain result\n",
    "# result = total_pop_affected.getInfo()\n",
    "# print('Total population affected by wildfires in 2020: ', result['population'])\n",
    "\n",
    "\n",
    "\n",
    "Map = geemap.Map()\n",
    "vis = {'min': 0, 'max': 1, 'palette': ['green', 'red'], 'bands': ['population']}\n",
    "Map.addLayer(pop_affected, vis, 'Pop')\n",
    "vis = {'min': 0, 'max': 1, 'palette': ['green', 'red'], 'bands': ['population']}\n",
    "Map.addLayer(population, vis, 'Pop')\n",
    "vis = {'min': 0, 'max': 1, 'palette': ['blue', 'orange'], 'bands': ['BurnDate']}\n",
    "Map.addLayer(fire_mask_partial, vis, 'partial fire mask')\n",
    "# vis = {'min': 0, 'max': 1, 'palette': ['green', 'red']}\n",
    "# Map.addLayer(fire_mask_full, vis, 'full fire mask')\n",
    "\n",
    "Map.addLayerControl()\n",
    "Map\n",
    "\n",
    "\n",
    "\n",
    "\n",
    "# +1 315 766 4675 jimmy"
   ]
  },
  {
   "cell_type": "code",
   "execution_count": 8,
   "metadata": {},
   "outputs": [
    {
     "data": {
      "text/html": [
       "\n",
       "            <style>\n",
       "                .geemap-dark {\n",
       "                    --jp-widgets-color: white;\n",
       "                    --jp-widgets-label-color: white;\n",
       "                    --jp-ui-font-color1: white;\n",
       "                    --jp-layout-color2: #454545;\n",
       "                    background-color: #383838;\n",
       "                }\n",
       "\n",
       "                .geemap-dark .jupyter-button {\n",
       "                    --jp-layout-color3: #383838;\n",
       "                }\n",
       "\n",
       "                .geemap-colab {\n",
       "                    background-color: var(--colab-primary-surface-color, white);\n",
       "                }\n",
       "\n",
       "                .geemap-colab .jupyter-button {\n",
       "                    --jp-layout-color3: var(--colab-primary-surface-color, white);\n",
       "                }\n",
       "            </style>\n",
       "            "
      ],
      "text/plain": [
       "<IPython.core.display.HTML object>"
      ]
     },
     "metadata": {},
     "output_type": "display_data"
    },
    {
     "ename": "NameError",
     "evalue": "name 'not_fire_mask' is not defined",
     "output_type": "error",
     "traceback": [
      "\u001b[0;31m---------------------------------------------------------------------------\u001b[0m",
      "\u001b[0;31mNameError\u001b[0m                                 Traceback (most recent call last)",
      "Cell \u001b[0;32mIn[8], line 1\u001b[0m\n\u001b[0;32m----> 1\u001b[0m total_fire_area \u001b[38;5;241m=\u001b[39m \u001b[43mnot_fire_mask\u001b[49m\u001b[38;5;241m.\u001b[39mreduceRegion(reducer\u001b[38;5;241m=\u001b[39mee\u001b[38;5;241m.\u001b[39mReducer\u001b[38;5;241m.\u001b[39msum(), geometry\u001b[38;5;241m=\u001b[39mgeometry, scale\u001b[38;5;241m=\u001b[39m\u001b[38;5;241m100\u001b[39m, maxPixels\u001b[38;5;241m=\u001b[39m\u001b[38;5;241m1e10\u001b[39m)\n\u001b[1;32m      2\u001b[0m total_fire_area\u001b[38;5;241m.\u001b[39mgetInfo()\n",
      "\u001b[0;31mNameError\u001b[0m: name 'not_fire_mask' is not defined"
     ]
    }
   ],
   "source": [
    "total_fire_area = not_fire_mask.reduceRegion(reducer=ee.Reducer.sum(), geometry=geometry, scale=100, maxPixels=1e10)\n",
    "total_fire_area.getInfo()"
   ]
  },
  {
   "cell_type": "code",
   "execution_count": null,
   "metadata": {},
   "outputs": [],
   "source": [
    "mask = population.eq(0)\n",
    "\n",
    "# Use 'where' to assign population counts to burn areas\n",
    "pop_affected = population.where(mask, 0)\n",
    "\n",
    "total_pop = pop_affected.reduceRegion(reducer=ee.Reducer.sum(), geometry=geometry, scale=100, maxPixels=1e10)\n",
    "result = total_pop.getInfo()\n",
    "result['population'] / 1e6"
   ]
  },
  {
   "cell_type": "code",
   "execution_count": null,
   "metadata": {},
   "outputs": [],
   "source": [
    "print('CRS: ', fire_proj.getInfo()['bands'][0])\n",
    "print(pop_proj.nominalScale())\n"
   ]
  }
 ],
 "metadata": {
  "kernelspec": {
   "display_name": "start_hack",
   "language": "python",
   "name": "python3"
  },
  "language_info": {
   "codemirror_mode": {
    "name": "ipython",
    "version": 3
   },
   "file_extension": ".py",
   "mimetype": "text/x-python",
   "name": "python",
   "nbconvert_exporter": "python",
   "pygments_lexer": "ipython3",
   "version": "3.10.12"
  }
 },
 "nbformat": 4,
 "nbformat_minor": 2
}
